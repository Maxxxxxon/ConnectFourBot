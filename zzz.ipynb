{
 "metadata": {
  "language_info": {
   "codemirror_mode": {
    "name": "ipython",
    "version": 3
   },
   "file_extension": ".py",
   "mimetype": "text/x-python",
   "name": "python",
   "nbconvert_exporter": "python",
   "pygments_lexer": "ipython3",
   "version": "3.7.3-final"
  },
  "orig_nbformat": 2,
  "kernelspec": {
   "name": "python_defaultSpec_1598782219471",
   "display_name": "Python 3.7.3 64-bit ('Program1': virtualenv)"
  }
 },
 "nbformat": 4,
 "nbformat_minor": 2,
 "cells": [
  {
   "cell_type": "code",
   "execution_count": 1,
   "metadata": {
    "tags": []
   },
   "outputs": [],
   "source": [
    "import torch\n",
    "from torch import nn\n",
    "import numpy as np\n",
    "from kaggle_environments import make\n",
    "\n",
    "from model import SimpleNet\n",
    "from mcts import mcts\n",
    "\n",
    "\n",
    "model = SimpleNet(42, 5)\n",
    "against = SimpleNet(42, 5)\n",
    "\n",
    "turn = 1\n",
    "env = make(\"connectx\", configuration={'rows':7,'inarow':8})\n",
    "if turn == 0:\n",
    "    trainer = env.train([None, 4])\n",
    "else:\n",
    "    trainer = env.train([4, None])\n",
    "    \n",
    "trainer.reset()\n",
    "pass"
   ]
  },
  {
   "cell_type": "code",
   "execution_count": 1,
   "metadata": {},
   "outputs": [
    {
     "output_type": "execute_result",
     "data": {
      "text/plain": "[{'board': [0,\n   0,\n   0,\n   0,\n   0,\n   0,\n   0,\n   0,\n   0,\n   0,\n   0,\n   0,\n   0,\n   0,\n   0,\n   0,\n   0,\n   0,\n   0,\n   0,\n   0,\n   0,\n   0,\n   0,\n   0,\n   0,\n   0,\n   0,\n   0,\n   0,\n   0,\n   0,\n   0,\n   0,\n   0,\n   2,\n   0,\n   0,\n   0,\n   0,\n   1,\n   0],\n  'mark': 1},\n 0,\n False,\n {}]"
     },
     "metadata": {},
     "execution_count": 1
    }
   ],
   "source": [
    "import torch\n",
    "from torch import nn\n",
    "import numpy as np\n",
    "from kaggle_environments import make\n",
    "\n",
    "from model import SimpleNet\n",
    "from mcts import mcts\n",
    "\n",
    "\n",
    "model = SimpleNet(42, 5)\n",
    "against = SimpleNet(42, 5)\n",
    "\n",
    "turn = 1\n",
    "env = make(\"connectx\")\n",
    "env2 = make(\"connectx\")\n",
    "env.step([2, 3])\n",
    "env.step([2, 3])\n",
    "trainer = env.train([None, 'random'])\n",
    "trainer.step(5)"
   ]
  },
  {
   "cell_type": "code",
   "execution_count": null,
   "metadata": {},
   "outputs": [],
   "source": []
  }
 ]
}